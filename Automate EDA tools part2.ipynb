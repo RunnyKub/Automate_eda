{
 "cells": [
  {
   "cell_type": "code",
   "execution_count": 1,
   "metadata": {
    "execution": {
     "iopub.execute_input": "2022-06-23T14:03:02.171290Z",
     "iopub.status.busy": "2022-06-23T14:03:02.171290Z",
     "iopub.status.idle": "2022-06-23T14:03:07.306169Z",
     "shell.execute_reply": "2022-06-23T14:03:07.306169Z",
     "shell.execute_reply.started": "2022-06-23T14:03:02.171290Z"
    },
    "tags": []
   },
   "outputs": [],
   "source": [
    "import pandas as pd\n",
    "import numpy as np\n",
    "import random\n",
    "\n",
    "import matplotlib.pyplot as plt\n",
    "import seaborn as sns\n",
    "from datetime import datetime, timedelta\n",
    "\n",
    "pd.set_option('display.max_columns', None)\n",
    "pd.options.display.float_format = '{:,.2f}'.format\n",
    "\n",
    "from IPython.core import display as ICD\n",
    "\n",
    "from sklearn import datasets"
   ]
  },
  {
   "cell_type": "markdown",
   "metadata": {},
   "source": [
    "# Import data"
   ]
  },
  {
   "cell_type": "code",
   "execution_count": 2,
   "metadata": {
    "execution": {
     "iopub.execute_input": "2022-06-23T14:03:07.306169Z",
     "iopub.status.busy": "2022-06-23T14:03:07.306169Z",
     "iopub.status.idle": "2022-06-23T14:03:07.534314Z",
     "shell.execute_reply": "2022-06-23T14:03:07.534314Z",
     "shell.execute_reply.started": "2022-06-23T14:03:07.306169Z"
    },
    "tags": []
   },
   "outputs": [
    {
     "name": "stdout",
     "output_type": "stream",
     "text": [
      "(20640, 13)\n"
     ]
    },
    {
     "data": {
      "text/html": [
       "<div>\n",
       "<style scoped>\n",
       "    .dataframe tbody tr th:only-of-type {\n",
       "        vertical-align: middle;\n",
       "    }\n",
       "\n",
       "    .dataframe tbody tr th {\n",
       "        vertical-align: top;\n",
       "    }\n",
       "\n",
       "    .dataframe thead th {\n",
       "        text-align: right;\n",
       "    }\n",
       "</style>\n",
       "<table border=\"1\" class=\"dataframe\">\n",
       "  <thead>\n",
       "    <tr style=\"text-align: right;\">\n",
       "      <th></th>\n",
       "      <th>datetime</th>\n",
       "      <th>date</th>\n",
       "      <th>MedInc</th>\n",
       "      <th>HouseAge</th>\n",
       "      <th>AveRooms</th>\n",
       "      <th>AveBedrms</th>\n",
       "      <th>Population</th>\n",
       "      <th>AveOccup</th>\n",
       "      <th>Latitude</th>\n",
       "      <th>Longitude</th>\n",
       "      <th>MedHouseVal</th>\n",
       "      <th>direction</th>\n",
       "      <th>is_expensive</th>\n",
       "    </tr>\n",
       "  </thead>\n",
       "  <tbody>\n",
       "    <tr>\n",
       "      <th>0</th>\n",
       "      <td>2022-01-30</td>\n",
       "      <td>2022-01-30</td>\n",
       "      <td>8.33</td>\n",
       "      <td>41.00</td>\n",
       "      <td>6.98</td>\n",
       "      <td>1.02</td>\n",
       "      <td>322.00</td>\n",
       "      <td>2.56</td>\n",
       "      <td>37.88</td>\n",
       "      <td>-122.23</td>\n",
       "      <td>4.53</td>\n",
       "      <td>North</td>\n",
       "      <td>True</td>\n",
       "    </tr>\n",
       "    <tr>\n",
       "      <th>1</th>\n",
       "      <td>2022-01-29</td>\n",
       "      <td>2022-01-29</td>\n",
       "      <td>8.30</td>\n",
       "      <td>21.00</td>\n",
       "      <td>6.24</td>\n",
       "      <td>0.97</td>\n",
       "      <td>2,401.00</td>\n",
       "      <td>2.11</td>\n",
       "      <td>37.86</td>\n",
       "      <td>-122.22</td>\n",
       "      <td>3.58</td>\n",
       "      <td>North</td>\n",
       "      <td>True</td>\n",
       "    </tr>\n",
       "    <tr>\n",
       "      <th>2</th>\n",
       "      <td>2022-03-26</td>\n",
       "      <td>2022-03-26</td>\n",
       "      <td>7.26</td>\n",
       "      <td>52.00</td>\n",
       "      <td>8.29</td>\n",
       "      <td>1.07</td>\n",
       "      <td>496.00</td>\n",
       "      <td>2.80</td>\n",
       "      <td>37.85</td>\n",
       "      <td>-122.24</td>\n",
       "      <td>3.52</td>\n",
       "      <td>North</td>\n",
       "      <td>True</td>\n",
       "    </tr>\n",
       "    <tr>\n",
       "      <th>3</th>\n",
       "      <td>2022-02-23</td>\n",
       "      <td>2022-02-23</td>\n",
       "      <td>5.64</td>\n",
       "      <td>52.00</td>\n",
       "      <td>5.82</td>\n",
       "      <td>1.07</td>\n",
       "      <td>558.00</td>\n",
       "      <td>2.55</td>\n",
       "      <td>37.85</td>\n",
       "      <td>-122.25</td>\n",
       "      <td>3.41</td>\n",
       "      <td>North</td>\n",
       "      <td>True</td>\n",
       "    </tr>\n",
       "    <tr>\n",
       "      <th>4</th>\n",
       "      <td>2022-03-11</td>\n",
       "      <td>2022-03-11</td>\n",
       "      <td>3.85</td>\n",
       "      <td>52.00</td>\n",
       "      <td>6.28</td>\n",
       "      <td>1.08</td>\n",
       "      <td>565.00</td>\n",
       "      <td>2.18</td>\n",
       "      <td>37.85</td>\n",
       "      <td>-122.25</td>\n",
       "      <td>3.42</td>\n",
       "      <td>North</td>\n",
       "      <td>True</td>\n",
       "    </tr>\n",
       "  </tbody>\n",
       "</table>\n",
       "</div>"
      ],
      "text/plain": [
       "    datetime        date  MedInc  HouseAge  AveRooms  AveBedrms  Population  \\\n",
       "0 2022-01-30  2022-01-30    8.33     41.00      6.98       1.02      322.00   \n",
       "1 2022-01-29  2022-01-29    8.30     21.00      6.24       0.97    2,401.00   \n",
       "2 2022-03-26  2022-03-26    7.26     52.00      8.29       1.07      496.00   \n",
       "3 2022-02-23  2022-02-23    5.64     52.00      5.82       1.07      558.00   \n",
       "4 2022-03-11  2022-03-11    3.85     52.00      6.28       1.08      565.00   \n",
       "\n",
       "   AveOccup  Latitude  Longitude  MedHouseVal direction  is_expensive  \n",
       "0      2.56     37.88    -122.23         4.53     North          True  \n",
       "1      2.11     37.86    -122.22         3.58     North          True  \n",
       "2      2.80     37.85    -122.24         3.52     North          True  \n",
       "3      2.55     37.85    -122.25         3.41     North          True  \n",
       "4      2.18     37.85    -122.25         3.42     North          True  "
      ]
     },
     "execution_count": 2,
     "metadata": {},
     "output_type": "execute_result"
    }
   ],
   "source": [
    "import sklearn.datasets\n",
    "\n",
    "data = sklearn.datasets.fetch_california_housing(return_X_y=False, as_frame=True)\n",
    "df = data[\"frame\"]\n",
    "\n",
    "def random_date(start, end, random_amount):\n",
    "    delta = (end - start).days\n",
    "    return [start + timedelta(days=random.randrange(delta)) for i in range(random_amount)]\n",
    "\n",
    "d1 = datetime.strptime('2022-01-01', '%Y-%m-%d')\n",
    "d2 = datetime.strptime('2022-03-31', '%Y-%m-%d')\n",
    "\n",
    "df['datetime'] = random_date(d1,d2,df.shape[0])\n",
    "df['date'] = df['datetime'].apply(lambda x: x.date())\n",
    "df = df.reindex(columns= ['datetime', 'date'] + list(df.columns[:-2]))\n",
    "df['direction'] = df['Latitude'].apply(lambda x: 'North' if x >= 36 else 'South')\n",
    "df['is_expensive'] = df['MedHouseVal'].apply(lambda x: True if x >= 2.5 else False)\n",
    "print(df.shape)\n",
    "df.head()"
   ]
  },
  {
   "cell_type": "markdown",
   "metadata": {},
   "source": [
    "# PivotTable.js\n",
    "- https://github.com/nicolaskruchten/pivottable"
   ]
  },
  {
   "cell_type": "code",
   "execution_count": 2,
   "metadata": {
    "execution": {
     "iopub.execute_input": "2022-06-23T17:29:24.422355Z",
     "iopub.status.busy": "2022-06-23T17:29:24.422355Z",
     "iopub.status.idle": "2022-06-23T17:29:24.438396Z",
     "shell.execute_reply": "2022-06-23T17:29:24.435638Z",
     "shell.execute_reply.started": "2022-06-23T17:29:24.422355Z"
    },
    "tags": []
   },
   "outputs": [],
   "source": [
    "from pivottablejs import pivot_ui\n",
    "\n",
    "pivot_ui(df,outfile_path='pivottablejs.html')"
   ]
  },
  {
   "cell_type": "markdown",
   "metadata": {},
   "source": [
    "# PandasGUI\n",
    "- https://pypi.org/project/pandasgui/"
   ]
  },
  {
   "cell_type": "code",
   "execution_count": 1,
   "metadata": {
    "execution": {
     "iopub.execute_input": "2022-06-23T17:29:11.246018Z",
     "iopub.status.busy": "2022-06-23T17:29:11.238023Z",
     "iopub.status.idle": "2022-06-23T17:29:11.256161Z",
     "shell.execute_reply": "2022-06-23T17:29:11.253933Z",
     "shell.execute_reply.started": "2022-06-23T17:29:11.246018Z"
    },
    "tags": []
   },
   "outputs": [],
   "source": [
    "from pandasgui import show\n",
    "\n",
    "show(df)"
   ]
  }
 ],
 "metadata": {
  "kernelspec": {
   "display_name": "Python 3",
   "language": "python",
   "name": "python3"
  },
  "language_info": {
   "codemirror_mode": {
    "name": "ipython",
    "version": 3
   },
   "file_extension": ".py",
   "mimetype": "text/x-python",
   "name": "python",
   "nbconvert_exporter": "python",
   "pygments_lexer": "ipython3",
   "version": "3.8.5"
  }
 },
 "nbformat": 4,
 "nbformat_minor": 4
}
